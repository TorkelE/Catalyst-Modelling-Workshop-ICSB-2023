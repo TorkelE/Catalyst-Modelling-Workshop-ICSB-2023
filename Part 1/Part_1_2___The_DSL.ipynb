{
 "cells": [
  {
   "cell_type": "markdown",
   "metadata": {},
   "source": [
    "# The `@reaction_network` DSL"
   ]
  },
  {
   "cell_type": "markdown",
   "metadata": {},
   "source": [
    "A core feature of Catalyst is the `@reaction_network` domain-specific language (DSL) which allows users to create chemical reaction network (CRN). This is a so-called macro (part of \"metaprogramming\", a feature of only a few languages such as Julia and Lisp) which allows us to use custom code within Julia. Here, it allow us to use classic chemical reaction notation to create our models. This is then (at compile time, not run time!) converted into a `ReactionSystem` structure, storing all the information of a CRN."
   ]
  },
  {
   "cell_type": "markdown",
   "metadata": {},
   "source": [
    "Catalyst allows other ways to create CRNs (either programmatically or by loading from a file, top be described later). Later in this workshop we will also describe various options for simulating and analysing CRNs. "
   ]
  },
  {
   "cell_type": "markdown",
   "metadata": {},
   "source": [
    "## DSL basics"
   ]
  },
  {
   "cell_type": "code",
   "execution_count": null,
   "metadata": {},
   "outputs": [],
   "source": [
    "using Catalyst # Imports the Catalyst package for CRN model creation locally."
   ]
  },
  {
   "cell_type": "markdown",
   "metadata": {},
   "source": [
    "All information of the created model is encapsuled within a `@reaction_network begin ... end` statement. Each line correspond to a reaction, which is preceded by its rate. Here we create a reaction network consisting of two species (`X`, `Y`) that are converted to each others (at rates `k_X` and `k_Y`). The `rn = ...` part is used to store the resulting model in the variable `rn`."
   ]
  },
  {
   "cell_type": "code",
   "execution_count": null,
   "metadata": {},
   "outputs": [],
   "source": [
    "rn = @reaction_network begin\n",
    "    k_X, X --> Y\n",
    "    k_Y, Y --> X\n",
    "end"
   ]
  },
  {
   "cell_type": "markdown",
   "metadata": {},
   "source": [
    "In a notebook environment, the resulting crn is printed to the output (this can be disabled by ending the statement with `;`). If you instead want to see the ODEs produced by the CRN (according to the reaction rate equations), you can use the Latexify package and the `latexify(rn; form=:ode)` command:"
   ]
  },
  {
   "cell_type": "code",
   "execution_count": null,
   "metadata": {},
   "outputs": [],
   "source": [
    "using Latexify"
   ]
  },
  {
   "cell_type": "code",
   "execution_count": null,
   "metadata": {},
   "outputs": [],
   "source": [
    "latexify(rn; form=:ode)"
   ]
  },
  {
   "cell_type": "markdown",
   "metadata": {},
   "source": [
    "Catalyst automatically extract the species, parameters, and reactions from the model. These can be checked using the `species`, `parameters`, and `reactions` functions:"
   ]
  },
  {
   "cell_type": "code",
   "execution_count": null,
   "metadata": {},
   "outputs": [],
   "source": [
    "species(rn)"
   ]
  },
  {
   "cell_type": "code",
   "execution_count": null,
   "metadata": {},
   "outputs": [],
   "source": [
    "parameters(rn)"
   ]
  },
  {
   "cell_type": "code",
   "execution_count": null,
   "metadata": {},
   "outputs": [],
   "source": [
    "reactions(rn)"
   ]
  },
  {
   "cell_type": "markdown",
   "metadata": {},
   "source": [
    "Remember, these reactions can be simulated using the notation we showed previously. First we create a `ODEProblem` by bundling:\n",
    "- Our reaction network model.\n",
    "- The initial conditions.\n",
    "- The time span.\n",
    "- The parameter values.\n",
    "\n",
    "The initial conditions and parameter values are vectors, where each component's value is a pair of it's `Symbol` (its name preceded by a `:`) and its value. In Julia, `Pair`s are presented through `=>` arrows.\n",
    "\n",
    "Here we create and simualte our model:"
   ]
  },
  {
   "cell_type": "code",
   "execution_count": null,
   "metadata": {},
   "outputs": [],
   "source": [
    "using DifferentialEquations, Plots\n",
    "u0 = [:X => 1.0, :Y =>1.0]\n",
    "tspan = (0.0, 1.0)\n",
    "ps = [:k_X => 1.0, :k_Y => 2.5]\n",
    "oprob = ODEProblem(rn, u0, tspan, ps)\n",
    "sol = solve(oprob)\n",
    "plot(sol)"
   ]
  },
  {
   "cell_type": "markdown",
   "metadata": {},
   "source": [
    "## Various reactions types"
   ]
  },
  {
   "cell_type": "markdown",
   "metadata": {},
   "source": [
    "Sometimes, some species are produced (or degraded). This can be represented through the empty set (using either `0` or `∅`). Here we create a simple production/degradation network:"
   ]
  },
  {
   "cell_type": "code",
   "execution_count": null,
   "metadata": {},
   "outputs": [],
   "source": [
    "rn_2 = @reaction_network begin\n",
    "    p, 0 --> X    # X is produced .\n",
    "    d, X --> 0    # X is degraded.\n",
    "end"
   ]
  },
  {
   "cell_type": "markdown",
   "metadata": {},
   "source": [
    "A reactions substrates and/or products can contain multiple species. These are separated by a `+`. Here we create a simple binding/unbinding network (where `X` and `Y` reversibly bind to form `XY`)."
   ]
  },
  {
   "cell_type": "code",
   "execution_count": null,
   "metadata": {},
   "outputs": [],
   "source": [
    "rn_3 = @reaction_network begin\n",
    "    kB, X + Y --> XY     # X and Y binds to form XY.\n",
    "    kD, XY --> X + Y     # XY dissociates into X and Y.\n",
    "end"
   ]
  },
  {
   "cell_type": "markdown",
   "metadata": {},
   "source": [
    "If multiple copies of a species participate in a reaction, the species can be preceded by a number indicating their stoichiometry. Here, we model a (reversible) dimerisation reaction (where 2 `X` molecules forms a single molecule `X2`)."
   ]
  },
  {
   "cell_type": "code",
   "execution_count": null,
   "metadata": {},
   "outputs": [],
   "source": [
    "rn_4 = @reaction_network begin\n",
    "    kB, 2X --> X2     # X dimerises to form X2.\n",
    "    kD, X2 --> 2X     # X2 dissociates into 2 copies of X.\n",
    "end"
   ]
  },
  {
   "cell_type": "markdown",
   "metadata": {},
   "source": [
    "These features can be combined freely, and stoichiometries can even be nested."
   ]
  },
  {
   "cell_type": "code",
   "execution_count": null,
   "metadata": {},
   "outputs": [],
   "source": [
    "wacky_reaction = @reaction_network begin\n",
    "    kW, 2X + 3(Y +2Z) --> 5V + W    \n",
    "end"
   ]
  },
  {
   "cell_type": "markdown",
   "metadata": {},
   "source": [
    "## Bundling of similar reactions\n",
    "Often, reaction networks contain reactions with similar structure. These can be bundled to create a more concise notation."
   ]
  },
  {
   "cell_type": "markdown",
   "metadata": {},
   "source": [
    "Reversible reactions can be modelled using a `<-->`. Here, the rate becomes a *tuple*, `(.,.)`, describing the *forward rate* followed by the *backward rate*. Here we create a production/degradation system ins a single like:"
   ]
  },
  {
   "cell_type": "code",
   "execution_count": null,
   "metadata": {},
   "outputs": [],
   "source": [
    "rn_5 = @reaction_network begin\n",
    "    (p,d), 0 <--> X     \n",
    "end"
   ]
  },
  {
   "cell_type": "markdown",
   "metadata": {},
   "source": [
    "This is identical to the notation we used previously (to create `rn_2`):"
   ]
  },
  {
   "cell_type": "code",
   "execution_count": null,
   "metadata": {},
   "outputs": [],
   "source": [
    "rn_5 = @reaction_network begin\n",
    "    p, 0 --> X    # X is produced.\n",
    "    d, X --> 0    # X is degraded.\n",
    "end"
   ]
  },
  {
   "cell_type": "markdown",
   "metadata": {},
   "source": [
    "Tuples can also be applied to the substrate/product expressions to bundle similar terms. If we have a system of two species `X` and `Y` degrading at rates `dX` and `dY`, these reactions can be bundled accordingly:"
   ]
  },
  {
   "cell_type": "code",
   "execution_count": null,
   "metadata": {},
   "outputs": [],
   "source": [
    "rn_6 = @reaction_network begin\n",
    "    (dX,dY), (X,Y) --> 0\n",
    "end"
   ]
  },
  {
   "cell_type": "markdown",
   "metadata": {},
   "source": [
    "If we wish both reactions to use the same rate `d`, this is possible:"
   ]
  },
  {
   "cell_type": "code",
   "execution_count": null,
   "metadata": {},
   "outputs": [],
   "source": [
    "rn_7 = @reaction_network begin\n",
    "    d, (X,Y) --> 0\n",
    "end"
   ]
  },
  {
   "cell_type": "markdown",
   "metadata": {},
   "source": [
    "If we wish, bundling can be used for both substrates and products. Here, we create two reactions one where `X1` is converted into `X2` (at rate `kX`) and one where `Y1` is converted into `Y2` (at rate `kY`)."
   ]
  },
  {
   "cell_type": "code",
   "execution_count": null,
   "metadata": {},
   "outputs": [],
   "source": [
    "rn_8 = @reaction_network begin\n",
    "    (kX,kY), (X1,Y1) --> (X2,Y2)\n",
    "end"
   ]
  },
  {
   "cell_type": "markdown",
   "metadata": {},
   "source": [
    "Again, bundling can be combined in various ways, using any number of terms, and also be combined with reversible reactions:"
   ]
  },
  {
   "cell_type": "code",
   "execution_count": null,
   "metadata": {},
   "outputs": [],
   "source": [
    "wacky_network = @reaction_network begin\n",
    "    ((pX, pY, pZ),d), (0, Y0, Z0) <--> (X, Y, Z1+Z2)\n",
    "end"
   ]
  },
  {
   "cell_type": "markdown",
   "metadata": {},
   "source": [
    "The important rule is that the rate is first split into the forwards and backwards reactions, and bundling is then applied (in this case, bundling has probably been applied overzealously, making it harder to figure out what is going on)."
   ]
  },
  {
   "cell_type": "markdown",
   "metadata": {},
   "source": [
    "## Using special symbols\n",
    "Julia supports all unicode characters, and these can be used in reaction networks."
   ]
  },
  {
   "cell_type": "markdown",
   "metadata": {},
   "source": [
    "The empty set can be represented through the `∅` symbol, and most arrows (e.g. `→`, `↣`, `↔`, `⇄`, etc.) can be used. E.g here we recreates our production/degradation reaction using a fancier notation."
   ]
  },
  {
   "cell_type": "code",
   "execution_count": null,
   "metadata": {},
   "outputs": [],
   "source": [
    "rn_9 = @reaction_network begin\n",
    "    (p,d), ∅ ↔ X \n",
    "end"
   ]
  },
  {
   "cell_type": "markdown",
   "metadata": {},
   "source": [
    "Such characters can also be used for species and parameters. E.g. I when I worked on the bacterial sigma factor V (*σᵛ*) I could create a reaction where it is produced at the basic rate *v₀* using"
   ]
  },
  {
   "cell_type": "code",
   "execution_count": null,
   "metadata": {},
   "outputs": [],
   "source": [
    "rn_10 = @reaction_network begin\n",
    "    v₀, ∅ → σᵛ\n",
    "end"
   ]
  },
  {
   "cell_type": "markdown",
   "metadata": {},
   "source": [
    "If you want, backwards arrows can also be used:"
   ]
  },
  {
   "cell_type": "code",
   "execution_count": null,
   "metadata": {},
   "outputs": [],
   "source": [
    "rn_11 = @reaction_network begin\n",
    "    d, 0 <-- X    # Equivalent to X --> 0\n",
    "end"
   ]
  },
  {
   "cell_type": "markdown",
   "metadata": {},
   "source": [
    "Also possible:"
   ]
  },
  {
   "cell_type": "code",
   "execution_count": null,
   "metadata": {},
   "outputs": [],
   "source": [
    "rn_12 = @reaction_network begin\n",
    "    🍦, 😢 --> 😃\n",
    "end"
   ]
  },
  {
   "cell_type": "markdown",
   "metadata": {},
   "source": [
    "## Non-constant reaction rates\n",
    "So far we have assumed that reaction rates are all constant parameters, however most expressions are permitted in the rate terms."
   ]
  },
  {
   "cell_type": "markdown",
   "metadata": {},
   "source": [
    "Let's assume that the activation of species `X` (converting it from an inactive form `X_i` to an active form `X_a`) is catalysed by the enzyme `E`. We can here put `E` in the reaction rate. In this case we will also add model production/degradation of `E`."
   ]
  },
  {
   "cell_type": "code",
   "execution_count": null,
   "metadata": {},
   "outputs": [],
   "source": [
    "rn_13 = @reaction_network begin\n",
    "    (p,d), 0 <--> E\n",
    "    E, X_i --> X_a\n",
    "end"
   ]
  },
  {
   "cell_type": "markdown",
   "metadata": {},
   "source": [
    "When can now check the rate of change in `X_a` in the corresponding ODE using `latexify(rn_12; form=:ode)`:"
   ]
  },
  {
   "cell_type": "code",
   "execution_count": null,
   "metadata": {},
   "outputs": [],
   "source": [
    "latexify(rn_13; form=:ode)"
   ]
  },
  {
   "cell_type": "markdown",
   "metadata": {},
   "source": [
    "If we want to also make the rate of the reaction `X_i --> X_a` scale with a parameter `k`, we can add that to the rate:"
   ]
  },
  {
   "cell_type": "code",
   "execution_count": null,
   "metadata": {},
   "outputs": [],
   "source": [
    "rn_14 = @reaction_network begin\n",
    "    (p,d), 0 <--> E\n",
    "    k*E, X_i --> X_a\n",
    "end"
   ]
  },
  {
   "cell_type": "markdown",
   "metadata": {},
   "source": [
    "In this case, an equivalent model can be achieved by adding `E` as a substrate and product to the reaction it catalyses:"
   ]
  },
  {
   "cell_type": "code",
   "execution_count": null,
   "metadata": {},
   "outputs": [],
   "source": [
    "rn_14 = @reaction_network begin\n",
    "    (p,d), 0 <--> E\n",
    "    k, X_i + E --> X_a + E\n",
    "end"
   ]
  },
  {
   "cell_type": "markdown",
   "metadata": {},
   "source": [
    "(in fact, if one carries out Gillespie simulations this as advantageous, as their speed can be increased if all reaction rates are constant)"
   ]
  },
  {
   "cell_type": "markdown",
   "metadata": {},
   "source": [
    "The Michaelis-Menten (*mm(X,v,K) = v\\*X/(X + K)*) and Hill (*hill(X,v,K,n) = v\\*X^n/(X^n + K^n)*) functions are frequently used in systems biology. These are natively supported. Here we create a model where the rate of production of `X` is determined by a Hill function according to the concentration of a transcription factor (`T`, again we let `T` be produced and degraded at constant rate)."
   ]
  },
  {
   "cell_type": "code",
   "execution_count": null,
   "metadata": {},
   "outputs": [],
   "source": [
    "rn_15 = @reaction_network begin\n",
    "    (p,d), 0 <--> T\n",
    "    hill(T,v,K,n), 0 --> X\n",
    "end"
   ]
  },
  {
   "cell_type": "markdown",
   "metadata": {},
   "source": [
    "A few other functions, such as repressive Michaelis-Menten and Hill functions are supported. It is also possible for the user to define their own functions and use them within the DSL."
   ]
  },
  {
   "cell_type": "code",
   "execution_count": null,
   "metadata": {},
   "outputs": [],
   "source": [
    "my_function(k1,k2,E) = (k1+E)/(k2+E)\n",
    "rn_16 = @reaction_network begin\n",
    "    (p,d), 0 <--> E\n",
    "    my_function(K1,K2,E), X_i --> X_a  # The name of the inputs to custom functions does not need to be the same as used to declare it.\n",
    "end"
   ]
  },
  {
   "cell_type": "markdown",
   "metadata": {},
   "source": [
    "Generally, any valid expression can be used, and we can also use any normal Julia functions:"
   ]
  },
  {
   "cell_type": "code",
   "execution_count": null,
   "metadata": {},
   "outputs": [],
   "source": [
    "rn_17 = @reaction_network begin\n",
    "    (p,d), 0 <--> E\n",
    "    log(E) + k1^(1+k2), X_i --> X_a  \n",
    "end"
   ]
  },
  {
   "cell_type": "markdown",
   "metadata": {},
   "source": [
    "The symbol `t` is reserved for time, and can be used to create time-dependent reactions. Here, `X` is produced at a cyclic rate (possibly modelling a circadian rythm):"
   ]
  },
  {
   "cell_type": "code",
   "execution_count": null,
   "metadata": {},
   "outputs": [],
   "source": [
    "rn_18 = @reaction_network begin\n",
    "   (A + A*sin(2π/T*t+ϕ))/2, 0 --> X\n",
    "end"
   ]
  },
  {
   "cell_type": "markdown",
   "metadata": {},
   "source": [
    "Finally, reaction rates can also be constants. Here `X` is produced at the constant rate `1`."
   ]
  },
  {
   "cell_type": "code",
   "execution_count": null,
   "metadata": {},
   "outputs": [],
   "source": [
    "rn_19 = @reaction_network begin\n",
    "    1, 0 --> X\n",
    " end"
   ]
  },
  {
   "cell_type": "markdown",
   "metadata": {},
   "source": [
    "## Advanced DSL usage\n",
    "The DSL contain many more features for creating advanced models, here we will briefly describe a few."
   ]
  },
  {
   "cell_type": "markdown",
   "metadata": {},
   "source": [
    "Let us consider our previous catalysis model where `E` catalyses the reaction `X_i --> X_a`. What if we would want to model this without adding production/degradation for `E`? Then we would simply write "
   ]
  },
  {
   "cell_type": "code",
   "execution_count": null,
   "metadata": {},
   "outputs": [],
   "source": [
    "rn_20 = @reaction_network begin\n",
    "    E, X_i --> X_a  \n",
    "end"
   ]
  },
  {
   "cell_type": "markdown",
   "metadata": {},
   "source": [
    "However, if we then run `parameters(rn_18)` we will note that teh DSL have deducted `E` to be a parameter:"
   ]
  },
  {
   "cell_type": "code",
   "execution_count": null,
   "metadata": {},
   "outputs": [],
   "source": [
    "parameters(rn_20)"
   ]
  },
  {
   "cell_type": "markdown",
   "metadata": {},
   "source": [
    "If we instead want to model `E` as a species we can explicitly designate this using the `@species` option (generally in the DSL, lines starting with `@...` indicate that some option is being used). We use this option, and then the `species` function to confirm that `E` is a species."
   ]
  },
  {
   "cell_type": "code",
   "execution_count": null,
   "metadata": {},
   "outputs": [],
   "source": [
    "rn_21 = @reaction_network begin\n",
    "    @species E(t)     # Have to add `(t)` to denote that E is a function of time. Almost always this is the case, but for e.g. a spatial system a species would also depend on some space variable(s).\n",
    "    E, X_i --> X_a  \n",
    "end\n",
    "species(rn_19)"
   ]
  },
  {
   "cell_type": "markdown",
   "metadata": {},
   "source": [
    "The `@species` option can also be used to set default values for that species. E.g. say that we typically want to use `E(0)=1.0` as an initial condition, then we use:"
   ]
  },
  {
   "cell_type": "code",
   "execution_count": null,
   "metadata": {},
   "outputs": [],
   "source": [
    "rn_22 = @reaction_network begin\n",
    "    @species E(t)=1.0     \n",
    "    E, X_i --> X_a  \n",
    "end"
   ]
  },
  {
   "cell_type": "markdown",
   "metadata": {},
   "source": [
    "Next, we can simulate the model without supplying a value of E."
   ]
  },
  {
   "cell_type": "code",
   "execution_count": null,
   "metadata": {},
   "outputs": [],
   "source": [
    "u0 = [:X_i => 1.0, :X_a => 0.0]\n",
    "oprob = ODEProblem(rn_22, u0, (0.0, 10.0))    # We use the timespan (0.0, 10.0), since the model have no parameters, these don't have to be supplied.\n",
    "sol = solve(oprob)\n",
    "plot(sol)"
   ]
  },
  {
   "cell_type": "code",
   "execution_count": null,
   "metadata": {},
   "outputs": [],
   "source": []
  }
 ],
 "metadata": {
  "kernelspec": {
   "display_name": "Julia 1.10.0-beta2",
   "language": "julia",
   "name": "julia-1.10"
  },
  "language_info": {
   "file_extension": ".jl",
   "mimetype": "application/julia",
   "name": "julia",
   "version": "1.10.0-beta2"
  },
  "orig_nbformat": 4
 },
 "nbformat": 4,
 "nbformat_minor": 2
}
