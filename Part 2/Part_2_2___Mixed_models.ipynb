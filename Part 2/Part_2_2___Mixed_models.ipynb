{
 "cells": [
  {
   "cell_type": "markdown",
   "metadata": {},
   "source": [
    "# Combining CRN models with other model types\n",
    "That Catalyst is part of a larger modelling framework enables us to easily mix our reaction network models with other models. Here, we will use this to make a simple model of a bacteria that depletes a nutrient (`N`). We will model out bacteria using a simple reaction network. An transcription factor (`E`) is produced as a Michaelis-Menten function of the nutrient's concentration. The enzyme then drives the activation of a protein from an inactive form (`P_i`) to an active form (`P_a`). To make the reaction network model aware of the nutrient variable we have to use the `@variables` option (since `N` is not a species, we do not use the `@species` option)."
   ]
  },
  {
   "cell_type": "code",
   "execution_count": null,
   "metadata": {},
   "outputs": [],
   "source": [
    "using Catalyst\n",
    "rn = @reaction_network begin\n",
    "    @variables N(t)\n",
    "    (mm(N,v,K), d), 0 <--> E\n",
    "    (kA*E, kD), P_i <--> P_a\n",
    "end"
   ]
  },
  {
   "cell_type": "markdown",
   "metadata": {},
   "source": [
    "Next, we create a simple equation for the concentration of the nutrient in the growth media. The nutrient start at some initial concentration, and is then degraded proportionally to its own concentration and to the active protein (which we assume adapts the bacteria to consuming this specific nutrient).\n",
    "\n",
    "First we declare the components of the nutrient part of the model:\n",
    "- The independent variable `t` and the nutrient concentration `N(t)`.\n",
    "- The parameter `r` (scaling the rate of nutrient depletion).\n",
    "- We also have to \"unpack\" the species `P_a` from our reaction network model, to use for the equation of the nutrient."
   ]
  },
  {
   "cell_type": "code",
   "execution_count": null,
   "metadata": {},
   "outputs": [],
   "source": [
    "@variables t N(t)\n",
    "@parameters r\n",
    "@unpack P_a = rn;"
   ]
  },
  {
   "cell_type": "markdown",
   "metadata": {},
   "source": [
    "Next, we define a differential equation for the concentration of the nutrient. First we also have to define a differential with respect to `t`. Next, we bundle it all into a `ODESystem` (which is related to the `ReactionSystem` Catalyst creates)."
   ]
  },
  {
   "cell_type": "code",
   "execution_count": null,
   "metadata": {},
   "outputs": [],
   "source": [
    "D = Differential(t)\n",
    "eq = D(N) ~ -r*P_a*N\n",
    "@named osys = ODESystem([eq], t)"
   ]
  },
  {
   "cell_type": "markdown",
   "metadata": {},
   "source": [
    "Finally, we can use `extend` to merge the two models (again using `@named` to store a name in the model)."
   ]
  },
  {
   "cell_type": "code",
   "execution_count": null,
   "metadata": {},
   "outputs": [],
   "source": [
    "@named bacteria_in_nutrient = extend(osys, rn)"
   ]
  },
  {
   "cell_type": "markdown",
   "metadata": {},
   "source": [
    "Finally, we can create, simulate, and plot an `ODEProblem` using the normal approach:"
   ]
  },
  {
   "cell_type": "code",
   "execution_count": null,
   "metadata": {},
   "outputs": [],
   "source": [
    "using OrdinaryDiffEq, Plots\n",
    "\n",
    "u0 = [:N => 1.0, :E => 0.0, :P_i => 1.0, :P_a => 1.0]\n",
    "tspan = (0.0, 10.0)\n",
    "ps = [:v => 1.0, :K => 0.2, :d => 0.3, :kA => 2.0, :kD => 0.5, :r => 0.2]\n",
    "\n",
    "oprob = ODEProblem(bacteria_in_nutrient, u0, tspan, ps)\n",
    "sol = solve(oprob, Tsit5())\n",
    "plot(sol)\n"
   ]
  },
  {
   "cell_type": "code",
   "execution_count": null,
   "metadata": {},
   "outputs": [],
   "source": []
  }
 ],
 "metadata": {
  "kernelspec": {
   "display_name": "Julia 1.10.0-beta2",
   "language": "julia",
   "name": "julia-1.10"
  },
  "language_info": {
   "file_extension": ".jl",
   "mimetype": "application/julia",
   "name": "julia",
   "version": "1.10.0-beta2"
  },
  "orig_nbformat": 4
 },
 "nbformat": 4,
 "nbformat_minor": 2
}
