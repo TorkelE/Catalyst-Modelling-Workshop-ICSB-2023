{
 "cells": [
  {
   "cell_type": "markdown",
   "metadata": {},
   "source": [
    "# Introduction"
   ]
  },
  {
   "cell_type": "markdown",
   "metadata": {},
   "source": [
    "## Package management in Julia\n"
   ]
  },
  {
   "cell_type": "markdown",
   "metadata": {},
   "source": [
    "The Julia package manager (`Pkg`) is available by default. It, and any other package, can be fetched into a local session through the `using Pkg` command:"
   ]
  },
  {
   "cell_type": "code",
   "execution_count": null,
   "metadata": {},
   "outputs": [],
   "source": [
    "using Pkg"
   ]
  },
  {
   "cell_type": "markdown",
   "metadata": {},
   "source": [
    "Next, any registered Julia package (around 10,000 right now) can be installed locally through the `Pkg.add(\"PackageName\")` command. Here we will install Catalyst.jl (for CRN modelling), DifferentialEquations.jl (for simulation), and Plots.jl (for plotting)."
   ]
  },
  {
   "cell_type": "code",
   "execution_count": null,
   "metadata": {},
   "outputs": [],
   "source": [
    "Pkg.add(\"Catalyst\")\n",
    "Pkg.add(\"DifferentialEquations\")\n",
    "Pkg.add(\"Plots\")"
   ]
  },
  {
   "cell_type": "markdown",
   "metadata": {},
   "source": [
    "Each time a new Julia session is started, we have to run `using PackageName` to be able to use a certain package. However, `Pkg.add(\"PackageName\")` only have to be run once on each machine.  "
   ]
  },
  {
   "cell_type": "code",
   "execution_count": null,
   "metadata": {},
   "outputs": [],
   "source": [
    "using Catalyst, DifferentialEquations, Plots"
   ]
  },
  {
   "cell_type": "markdown",
   "metadata": {},
   "source": [
    "(In the remaining workshop parts, we will assume packages are already installed, if you encounter a package that is not, you can install it using the above method)"
   ]
  },
  {
   "cell_type": "markdown",
   "metadata": {},
   "source": [
    "If someone have already created an Julia environment in a folder (you can see this by the folder containing a \"Project.toml\" and a \"Manifest.toml\" file), you can automatically download the corresponding packages using the `Pkg.instantiate()` command. First we need to run `Pck.activate(\".\")` to activate the local environment though."
   ]
  },
  {
   "cell_type": "code",
   "execution_count": null,
   "metadata": {},
   "outputs": [],
   "source": [
    "Pkg.activate(\".\")\n",
    "Pkg.instantiate()"
   ]
  },
  {
   "cell_type": "markdown",
   "metadata": {},
   "source": [
    "## Creating and simulating a simple chemical reaction network ODE model\n",
    "\n",
    "We can create a CRN model using the `@reaction_network` macro exported my Catalyst. It allows us to declare the model using classic chemical reaction notation. Here we create a simple birth/death model, where a single species (`X`) is produced (at rate `p`) and degraded (at rate `d`).  "
   ]
  },
  {
   "cell_type": "code",
   "execution_count": null,
   "metadata": {},
   "outputs": [],
   "source": [
    "crn = @reaction_network begin\n",
    "    p, 0 --> X\n",
    "    d, X --> 0\n",
    "end"
   ]
  },
  {
   "cell_type": "markdown",
   "metadata": {},
   "source": [
    "Next, by setting initial conditions, parameter values, and a time span, we can create a `ODEProblem`. This can be simualted using the `solve` function."
   ]
  },
  {
   "cell_type": "code",
   "execution_count": null,
   "metadata": {},
   "outputs": [],
   "source": [
    "u0 = [:X => 1.0] \n",
    "tspan = (0.0, 10.0)\n",
    "ps = [:p => 1.0, :d => 0.2]\n",
    "ode_prob = ODEProblem(crn, u0, tspan, ps)\n",
    "ode_sol = solve(ode_prob);"
   ]
  },
  {
   "cell_type": "markdown",
   "metadata": {},
   "source": [
    "We can plot the result using the `plot` function."
   ]
  },
  {
   "cell_type": "code",
   "execution_count": null,
   "metadata": {},
   "outputs": [],
   "source": [
    "plot(ode_sol)"
   ]
  },
  {
   "cell_type": "markdown",
   "metadata": {},
   "source": [
    "### SDE and Gillespie simulations"
   ]
  },
  {
   "cell_type": "markdown",
   "metadata": {},
   "source": [
    "We can run a (chemical Langevin equation based) SDE simulation simply by replacing `ODEProblem` by `SDEProblem`:"
   ]
  },
  {
   "cell_type": "code",
   "execution_count": null,
   "metadata": {},
   "outputs": [],
   "source": [
    "u0 = [:X => 1.0]\n",
    "tspan = (0.0, 10.0)\n",
    "ps = [:p => 1.0, :d => 0.2]\n",
    "sde_prob = SDEProblem(crn, u0, tspan, ps)\n",
    "\n",
    "sde_sol = solve(sde_prob)\n",
    "plot(sde_sol)"
   ]
  },
  {
   "cell_type": "markdown",
   "metadata": {},
   "source": [
    "Finally, Gillespie simulations can be run by first creating a `DiscreteProblem` and then a `JumpProblem`. We will also specify which simulation algorithm to use (here we use Gillespie's direct method, `Direct`)."
   ]
  },
  {
   "cell_type": "code",
   "execution_count": null,
   "metadata": {},
   "outputs": [],
   "source": [
    "u0 = [:X => 1]\n",
    "tspan = (0.0, 10.0)\n",
    "ps = [:p => 1.0, :d => 0.2]\n",
    "d_prob = DiscreteProblem(crn, u0, tspan, ps)\n",
    "j_prob = JumpProblem(crn, d_prob, Direct())\n",
    "\n",
    "j_sol = solve(j_prob, SSAStepper())   # For pure jump simulations, `SSAStepper()` is always used here.\n",
    "plot(j_sol)"
   ]
  },
  {
   "cell_type": "markdown",
   "metadata": {},
   "source": [
    "(In future interface, which is awaiting better hybrid ODE/Jump support, a `JumpProblem` will likely be created directly from the simulation conditions)"
   ]
  }
 ],
 "metadata": {
  "kernelspec": {
   "display_name": "Julia 1.10.0-beta2",
   "language": "julia",
   "name": "julia-1.10"
  },
  "language_info": {
   "file_extension": ".jl",
   "mimetype": "application/julia",
   "name": "julia",
   "version": "1.10.0-beta2"
  },
  "orig_nbformat": 4
 },
 "nbformat": 4,
 "nbformat_minor": 2
}
