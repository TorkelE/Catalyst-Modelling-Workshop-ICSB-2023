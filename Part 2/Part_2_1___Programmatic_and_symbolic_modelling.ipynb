{
 "cells": [
  {
   "cell_type": "markdown",
   "metadata": {},
   "source": [
    "# Programmatic and symbolic modelling \n",
    "This workshop primarily uses the `@reaction_network` DSL to create models. However, it is also possible to create the programmatically be assembling its components one by one. Here we will briefly demonstrate such a workflow."
   ]
  },
  {
   "cell_type": "markdown",
   "metadata": {},
   "source": [
    "## Creating a model without using the DSL"
   ]
  },
  {
   "cell_type": "markdown",
   "metadata": {},
   "source": [
    "We will use a simple binding/dissociation model as our example. Here, `X` and `Y` binds at rate `kB` to form `XY`, while `XY` dissociates into `X` and `Y` at rate `kD`.\n",
    "\n",
    "First we need to declare our:\n",
    "- Independent variable: in this case time, `t`.\n",
    "- Our species, `X`, `Y`, and `XY`.\n",
    "- Our parameters `kB`, and `kD`.\n",
    "\n",
    "We do this using the `@variables`, `@species`, and `@parameters` macros (the notation is here identical to how these are used as options within the DSL)."
   ]
  },
  {
   "cell_type": "code",
   "execution_count": null,
   "metadata": {},
   "outputs": [],
   "source": [
    "using Catalyst\n",
    "@variables t\n",
    "@species X(t) Y(t) XY(t)\n",
    "@parameters kB kD;"
   ]
  },
  {
   "cell_type": "markdown",
   "metadata": {},
   "source": [
    "Next we create our reactions using the `Reaction` function. Each reaction takes 5 arguments:\n",
    "- The reaction rate.\n",
    "- The substrates of the reaction.\n",
    "- The products of the reaction.\n",
    "- The stoichiometric coefficients of the substrates.\n",
    "- The stoichiometric coefficients of the products.\n",
    "\n",
    "We bundle our reactions together in a single vector and use it to create a `ReactionSystem` (which also takes the independent variable, `t`)."
   ]
  },
  {
   "cell_type": "code",
   "execution_count": null,
   "metadata": {},
   "outputs": [],
   "source": [
    "reactions = [Reaction(kB, [X, Y], [XY], [1,1], [1]),\n",
    "             Reaction(kD, [XY], [X, Y], [1], [1,1])]\n",
    "@named rs = ReactionSystem(reactions, t)"
   ]
  },
  {
   "cell_type": "markdown",
   "metadata": {},
   "source": [
    "We use the `@named` macro to give our reaction system a name identical to the variable we store it in. That our models have names are typically irrelevant, but can sometimes be useful. We can check the name through `rs.name`:"
   ]
  },
  {
   "cell_type": "code",
   "execution_count": null,
   "metadata": {},
   "outputs": [],
   "source": [
    "rs.name"
   ]
  },
  {
   "cell_type": "markdown",
   "metadata": {},
   "source": [
    "We can now simulate our model using teh same syntax as before. However, when the DSL is used, the component names (e.g. `X` and `kD`) are stored internally and we use `Symbol`s to determine the value of each component (e.g. `:X`). Now, since we have decalred the components using e.g. `@species X Y XY` these are variables that can be used directly:"
   ]
  },
  {
   "cell_type": "code",
   "execution_count": null,
   "metadata": {},
   "outputs": [],
   "source": [
    "using OrdinaryDiffEq, Plots    # Here we use \"OrdinaryDiffEq\" instead of \"DifferentialEquations\". The former is a light-weight version of the latter, exporting ODE functionality only (and is thus quicker to import).\n",
    "\n",
    "u0 = [X => 2.0, Y => 1.0, XY => 0.0]\n",
    "tspan = (0.0, 10.0)\n",
    "ps = [kD => 1.0, kB => 1.0]\n",
    "oprob = ODEProblem(rs, u0, tspan, ps)\n",
    "sol = solve(oprob, Tsit5())           # Automatic solver selection is a part of DifferentialEquations, so when using OrdinaryDiffEq we have to select one. Tsit5 works well for small non-stiff problems.\n",
    "plot(sol)"
   ]
  },
  {
   "cell_type": "markdown",
   "metadata": {},
   "source": [
    "## The symbolic backend\n",
    "Catalyst builds on the ModelingToolkit.jl package modelling package. It, in turn represent all its parameters and variables using the Symbolics.jl computer algebraic system. This means that all Catalyst equations are symbolically represented, and we can do computational algebra on them. Internally, this can be used to speed up simulations in various ways."
   ]
  },
  {
   "cell_type": "markdown",
   "metadata": {},
   "source": [
    "Here, as an example, let's create an expression using our parameters"
   ]
  },
  {
   "cell_type": "code",
   "execution_count": null,
   "metadata": {},
   "outputs": [],
   "source": [
    "eq = (kB^2 - kD^2)/(kB-kD)"
   ]
  },
  {
   "cell_type": "markdown",
   "metadata": {},
   "source": [
    "We can now simplify this using the `simplify` function, creasing an easier expression."
   ]
  },
  {
   "cell_type": "code",
   "execution_count": null,
   "metadata": {},
   "outputs": [],
   "source": [
    "simplify(eq)"
   ]
  },
  {
   "cell_type": "code",
   "execution_count": null,
   "metadata": {},
   "outputs": [],
   "source": []
  }
 ],
 "metadata": {
  "kernelspec": {
   "display_name": "Julia 1.10.0-beta2",
   "language": "julia",
   "name": "julia-1.10"
  },
  "language_info": {
   "file_extension": ".jl",
   "mimetype": "application/julia",
   "name": "julia",
   "version": "1.10.0-beta2"
  },
  "orig_nbformat": 4
 },
 "nbformat": 4,
 "nbformat_minor": 2
}
